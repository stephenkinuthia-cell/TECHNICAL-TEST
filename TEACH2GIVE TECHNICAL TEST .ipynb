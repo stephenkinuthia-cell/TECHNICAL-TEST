{
 "cells": [
  {
   "cell_type": "code",
   "execution_count": null,
   "id": "98d1b5ff-24fe-4394-bf30-999049eed0f9",
   "metadata": {},
   "outputs": [],
   "source": [
    "# 1 Write a query that will display the results below (Note: some columns might be renamed but use the column names above).\n",
    "  #It should only show 2020 data and order by driver points. \n",
    "\n",
    "# SQL query to retrieve race results for 2020 and order them by points\n",
    "query = '''\n",
    "SELECT \n",
    "    races.race_year,\n",
    "    races.race_name, \n",
    "    races.race_date,\n",
    "    circuits.circuit_location,\n",
    "    drivers.driver_name,\n",
    "    drivers.driver_number,\n",
    "    drivers.driver_nationality,\n",
    "    constructors.team,\n",
    "    results.grid,\n",
    "    results.fastest_lap,\n",
    "    results.race_time,\n",
    "    results.points\n",
    "FROM \n",
    "    results \n",
    "JOIN \n",
    "    races ON results.race_id = races.race_id      \n",
    "JOIN \n",
    "    drivers ON results.driver_id = drivers.driver_id \n",
    "JOIN \n",
    "    constructors ON results.constructor_id = constructors.constructor_id \n",
    "JOIN \n",
    "    circuits ON races.circuit_id = circuits.circuit_id  \n",
    "WHERE \n",
    "    races.race_year = 2020               \n",
    "ORDER BY \n",
    "    results.points DESC;                 \n"
   ]
  },
  {
   "cell_type": "code",
   "execution_count": 19,
   "id": "dd70c193-dedb-4952-b085-f6848b1f19cd",
   "metadata": {},
   "outputs": [
    {
     "name": "stdout",
     "output_type": "stream",
     "text": [
      "True\n",
      "True\n",
      "True\n",
      "True\n",
      "False\n"
     ]
    }
   ],
   "source": [
    "# 2. Write a Python function that checks whether a word or phrase is palindrome or not.\n",
    "def is_palindrome(input):\n",
    "\n",
    "   # Removing spaces and convert to lowercase\n",
    "   converted_input = input.replace(\" \", \"\").lower() \n",
    "    \n",
    "   # Checking if the converted string is equal to its reverse\n",
    "   return converted_input == converted_input[::-1]\n",
    "\n",
    "# Example usage\n",
    "print(is_palindrome(\"madam\")) \n",
    "print(is_palindrome(\"kayak\"))\n",
    "print(is_palindrome(\"race car\"))\n",
    "print(is_palindrome(\"nurses run\"))    \n",
    "print(is_palindrome(\"print\"))   \n",
    " "
   ]
  },
  {
   "cell_type": "code",
   "execution_count": 21,
   "id": "1cbf824b-aa28-4168-91ed-049786800cae",
   "metadata": {},
   "outputs": [
    {
     "name": "stdout",
     "output_type": "stream",
     "text": [
      "True\n",
      "False\n"
     ]
    }
   ],
   "source": [
    " # 3.  Write a Python function to check whether a string is pangram or not. (Assume the string passed in does not have any punctuation)\n",
    "import string\n",
    "\n",
    "def is_pangram(input_string):\n",
    "\n",
    "    # Converting the input string to lowercase and remove any spaces\n",
    "    input_string = input_string.lower().replace(\" \", \"\")\n",
    "\n",
    "    #Creating a set of characters in the input string\n",
    "    input_set = set(input_string)\n",
    "\n",
    "    # Creating a set of all lowercase letters\n",
    "    alpha_set = set(string.ascii_lowercase) \n",
    "\n",
    "    # Checking if all alphabet letters are present in the input string\n",
    "    return alpha_set.issubset(input_set)\n",
    "\n",
    "#Example\n",
    "print(is_pangram(\"The quick brown fox jumps over the lazy dog\")) \n",
    "print(is_pangram(\"i love programming\"))\n"
   ]
  },
  {
   "cell_type": "code",
   "execution_count": 13,
   "id": "98063f76-3145-4137-b834-aab2217336f7",
   "metadata": {},
   "outputs": [
    {
     "name": "stdout",
     "output_type": "stream",
     "text": [
      "5\n",
      "-65\n",
      "-9\n",
      "19\n"
     ]
    }
   ],
   "source": [
    "# 4. Write a program that takes an integer as input and returns an integer with reversed digit ordering. \n",
    "def reverse_int(x):\n",
    "\n",
    "    # Converting the integer to a string and reverse the digits\n",
    "    rev_str = str(abs(x))[::-1] \n",
    "    \n",
    "    # Converting the reversed string back to an integer\n",
    "    rev_int = int(rev_str)\n",
    "    \n",
    "    # using the if statement to restore the negative sign to the reversed number if the original number was negative\n",
    "    if x < 0:\n",
    "        return -rev_int\n",
    "    else:\n",
    "        return rev_int\n",
    "\n",
    "# Example\n",
    "print(reverse_int(500))   \n",
    "print(reverse_int(-56))   \n",
    "print(reverse_int(-90))  \n",
    "print(reverse_int(91))  "
   ]
  },
  {
   "cell_type": "code",
   "execution_count": 33,
   "id": "df03823b-409c-477b-a8e3-27f380c4747e",
   "metadata": {},
   "outputs": [
    {
     "name": "stdout",
     "output_type": "stream",
     "text": [
      "Hi\n",
      "I Love Programming\n"
     ]
    }
   ],
   "source": [
    "# 5 Write a program that accepts a string as input, capitalizes the first letter of each word in the string, and then returns the result string.\n",
    "def capitalize_first_letters(string):\n",
    "    \n",
    "    # Spliting the string into  a single word and capitalize each word individually\n",
    "    return ' '.join(word.capitalize() \n",
    "                    for word in string.split())\n",
    "\n",
    "# Example \n",
    "print(capitalize_first_letters (\"hi\"))\n",
    "print(capitalize_first_letters (\"i love programming\"))"
   ]
  }
 ],
 "metadata": {
  "kernelspec": {
   "display_name": "Python 3 (ipykernel)",
   "language": "python",
   "name": "python3"
  },
  "language_info": {
   "codemirror_mode": {
    "name": "ipython",
    "version": 3
   },
   "file_extension": ".py",
   "mimetype": "text/x-python",
   "name": "python",
   "nbconvert_exporter": "python",
   "pygments_lexer": "ipython3",
   "version": "3.12.4"
  }
 },
 "nbformat": 4,
 "nbformat_minor": 5
}
